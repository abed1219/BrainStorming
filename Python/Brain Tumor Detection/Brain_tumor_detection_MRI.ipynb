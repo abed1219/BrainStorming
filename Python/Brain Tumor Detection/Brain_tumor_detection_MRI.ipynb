{
 "cells": [
  {
   "cell_type": "markdown",
   "metadata": {},
   "source": [
    "<center><h1>Brain Tumor Detection</h1><center>"
   ]
  },
  {
   "cell_type": "markdown",
   "metadata": {},
   "source": [
    "# Importing Essential Libraries and Tools"
   ]
  },
  {
   "cell_type": "code",
   "execution_count": null,
   "metadata": {
    "_cell_guid": "b1076dfc-b9ad-4769-8c92-a6c4dae69d19",
    "_uuid": "8f2839f25d086af736a60e9eeb907d3b93b6e0e5",
    "execution": {
     "iopub.execute_input": "2022-08-04T23:32:07.951593Z",
     "iopub.status.busy": "2022-08-04T23:32:07.951171Z",
     "iopub.status.idle": "2022-08-04T23:32:07.979556Z",
     "shell.execute_reply": "2022-08-04T23:32:07.978478Z",
     "shell.execute_reply.started": "2022-08-04T23:32:07.951559Z"
    },
    "trusted": true
   },
   "outputs": [],
   "source": [
    "import numpy as np\n",
    "import pandas as pd\n",
    "import matplotlib.pyplot as plt\n",
    "\n",
    "import tensorflow as tf\n",
    "from tensorflow import keras\n",
    "from keras import layers\n",
    "from keras.models import Sequential\n",
    "from keras.layers import Conv2D, MaxPooling2D, Dense, Flatten\n",
    "from keras.metrics import BinaryAccuracy, Precision, Recall\n",
    "import warnings\n",
    "warnings.filterwarnings(\"ignore\")\n",
    "tf.keras.backend.clear_session()"
   ]
  },
  {
   "cell_type": "markdown",
   "metadata": {},
   "source": [
    "# Loading the Data"
   ]
  },
  {
   "cell_type": "markdown",
   "metadata": {},
   "source": [
    "We load the data by making use of the tool image_dataset_from directory. It helps us fetch the data from the relevant directory, automatically does labeling, shuffles the data, batches the data (in this case as 32) and resizes images into 256 by 256."
   ]
  },
  {
   "cell_type": "code",
   "execution_count": null,
   "metadata": {
    "execution": {
     "iopub.execute_input": "2022-08-04T23:32:08.082981Z",
     "iopub.status.busy": "2022-08-04T23:32:08.082254Z",
     "iopub.status.idle": "2022-08-04T23:32:08.209336Z",
     "shell.execute_reply": "2022-08-04T23:32:08.208241Z",
     "shell.execute_reply.started": "2022-08-04T23:32:08.082941Z"
    },
    "trusted": true
   },
   "outputs": [],
   "source": [
    "data = keras.utils.image_dataset_from_directory(\"Brain Dataset/MRI brain_tumor_DS\")"
   ]
  },
  {
   "cell_type": "markdown",
   "metadata": {},
   "source": [
    "<h3>Plotting a few Example Images</h3>"
   ]
  },
  {
   "cell_type": "markdown",
   "metadata": {},
   "source": [
    "If a brain has tumor it is labeled as 1, if no it is labeled as 0."
   ]
  },
  {
   "cell_type": "code",
   "execution_count": null,
   "metadata": {
    "_kg_hide-output": true,
    "execution": {
     "iopub.execute_input": "2022-08-04T23:32:08.217061Z",
     "iopub.status.busy": "2022-08-04T23:32:08.216749Z",
     "iopub.status.idle": "2022-08-04T23:32:08.854273Z",
     "shell.execute_reply": "2022-08-04T23:32:08.853135Z",
     "shell.execute_reply.started": "2022-08-04T23:32:08.217034Z"
    },
    "trusted": true
   },
   "outputs": [],
   "source": [
    "batch = data.as_numpy_iterator().next()"
   ]
  },
  {
   "cell_type": "code",
   "execution_count": null,
   "metadata": {
    "execution": {
     "iopub.execute_input": "2022-08-04T23:32:08.858047Z",
     "iopub.status.busy": "2022-08-04T23:32:08.857338Z",
     "iopub.status.idle": "2022-08-04T23:32:10.244315Z",
     "shell.execute_reply": "2022-08-04T23:32:10.243233Z",
     "shell.execute_reply.started": "2022-08-04T23:32:08.858007Z"
    },
    "trusted": true
   },
   "outputs": [],
   "source": [
    "fig, ax = plt.subplots(3, 5, figsize=(15,10))\n",
    "ax = ax.flatten()\n",
    "for idx, img in enumerate(batch[0][:15]):\n",
    "    ax[idx].imshow(img.astype(int))\n",
    "    ax[idx].title.set_text(batch[1][idx])"
   ]
  },
  {
   "cell_type": "markdown",
   "metadata": {},
   "source": [
    "We load the data by making use of the tool image_dataset_from directory. It helps us fetch the data from the relevant directory, automatically does labeling, shuffles the data, batches the data (in this case as 32) and resizes images into 256 by 256."
   ]
  },
  {
   "cell_type": "code",
   "execution_count": null,
   "metadata": {
    "execution": {
     "iopub.execute_input": "2022-08-04T23:32:08.082981Z",
     "iopub.status.busy": "2022-08-04T23:32:08.082254Z",
     "iopub.status.idle": "2022-08-04T23:32:08.209336Z",
     "shell.execute_reply": "2022-08-04T23:32:08.208241Z",
     "shell.execute_reply.started": "2022-08-04T23:32:08.082941Z"
    },
    "trusted": true
   },
   "outputs": [],
   "source": [
    "data = keras.utils.image_dataset_from_directory(\"Brain Dataset/MRI brain_tumor_DS\")"
   ]
  },
  {
   "cell_type": "markdown",
   "metadata": {},
   "source": [
    "<h3>Plotting a few Example Images</h3>"
   ]
  },
  {
   "cell_type": "markdown",
   "metadata": {},
   "source": [
    "If a brain has tumor it is labeled as 1, if no it is labeled as 0."
   ]
  },
  {
   "cell_type": "code",
   "execution_count": null,
   "metadata": {
    "execution": {
     "iopub.execute_input": "2022-08-04T23:32:08.858047Z",
     "iopub.status.busy": "2022-08-04T23:32:08.857338Z",
     "iopub.status.idle": "2022-08-04T23:32:10.244315Z",
     "shell.execute_reply": "2022-08-04T23:32:10.243233Z",
     "shell.execute_reply.started": "2022-08-04T23:32:08.858007Z"
    },
    "trusted": true
   },
   "outputs": [],
   "source": [
    "fig, ax = plt.subplots(3, 5, figsize=(15,10))\n",
    "ax = ax.flatten()\n",
    "for idx, img in enumerate(batch[0][:15]):\n",
    "    ax[idx].imshow(img.astype(int))\n",
    "    ax[idx].title.set_text(batch[1][idx])"
   ]
  },
  {
   "cell_type": "markdown",
   "metadata": {},
   "source": [
    "# Data Scaling"
   ]
  },
  {
   "cell_type": "markdown",
   "metadata": {},
   "source": [
    "Since our data consists of images and images consist of pixels, we divide all the pixel values by 255—each pixel can have a value in [0, 255]— so that all the pixel values are on the same scale i.e. [0, 1]."
   ]
  },
  {
   "cell_type": "code",
   "execution_count": null,
   "metadata": {
    "execution": {
     "iopub.execute_input": "2022-08-04T23:32:10.246645Z",
     "iopub.status.busy": "2022-08-04T23:32:10.245944Z",
     "iopub.status.idle": "2022-08-04T23:32:10.274832Z",
     "shell.execute_reply": "2022-08-04T23:32:10.27382Z",
     "shell.execute_reply.started": "2022-08-04T23:32:10.246605Z"
    },
    "trusted": true
   },
   "outputs": [],
   "source": [
    "data = data.map(lambda x,y: (x/255, y))"
   ]
  },
  {
   "cell_type": "code",
   "execution_count": null,
   "metadata": {
    "_kg_hide-output": true,
    "execution": {
     "iopub.execute_input": "2022-08-04T23:32:10.278962Z",
     "iopub.status.busy": "2022-08-04T23:32:10.277872Z",
     "iopub.status.idle": "2022-08-04T23:32:10.726771Z",
     "shell.execute_reply": "2022-08-04T23:32:10.72571Z",
     "shell.execute_reply.started": "2022-08-04T23:32:10.27891Z"
    },
    "trusted": true
   },
   "outputs": [],
   "source": [
    "batch = data.as_numpy_iterator().next()"
   ]
  },
  {
   "cell_type": "code",
   "execution_count": null,
   "metadata": {
    "execution": {
     "iopub.execute_input": "2022-08-04T23:32:10.728906Z",
     "iopub.status.busy": "2022-08-04T23:32:10.728537Z",
     "iopub.status.idle": "2022-08-04T23:32:10.740913Z",
     "shell.execute_reply": "2022-08-04T23:32:10.739913Z",
     "shell.execute_reply.started": "2022-08-04T23:32:10.728868Z"
    },
    "trusted": true
   },
   "outputs": [],
   "source": [
    "print(\"Minimum value of the scaled data:\", batch[0].min())\n",
    "print(\"Maximum value of the scaled data:\", batch[0].max())"
   ]
  },
  {
   "cell_type": "markdown",
   "metadata": {},
   "source": [
    "# Train-Validation-Test Split"
   ]
  },
  {
   "cell_type": "code",
   "execution_count": null,
   "metadata": {
    "execution": {
     "iopub.execute_input": "2022-08-04T23:32:10.743081Z",
     "iopub.status.busy": "2022-08-04T23:32:10.742425Z",
     "iopub.status.idle": "2022-08-04T23:32:10.749401Z",
     "shell.execute_reply": "2022-08-04T23:32:10.748358Z",
     "shell.execute_reply.started": "2022-08-04T23:32:10.743043Z"
    },
    "trusted": true
   },
   "outputs": [],
   "source": [
    "print(\"There are\", len(data), \"batches in our data\")"
   ]
  },
  {
   "cell_type": "markdown",
   "metadata": {},
   "source": [
    "Now, we have to divide the whole data into 3 separate sets: Train set for training the model, Validation set for adjusting the hyperparameters of our model and Test set for evaluating our model on the set that our model has not seen before. As it can be seen, we have 8 batches in our data. I preferred allocating 4 batches for Train set, 2 batches for Validation set and 2 batches for Test set."
   ]
  },
  {
   "cell_type": "code",
   "execution_count": null,
   "metadata": {
    "execution": {
     "iopub.execute_input": "2022-08-04T23:32:10.752019Z",
     "iopub.status.busy": "2022-08-04T23:32:10.751192Z",
     "iopub.status.idle": "2022-08-04T23:32:10.758575Z",
     "shell.execute_reply": "2022-08-04T23:32:10.757623Z",
     "shell.execute_reply.started": "2022-08-04T23:32:10.751978Z"
    },
    "trusted": true
   },
   "outputs": [],
   "source": [
    "train_size = int(len(data)*0.6)\n",
    "val_size = int(len(data)*0.2)+1\n",
    "test_size = int(len(data)*0.2)+1"
   ]
  },
  {
   "cell_type": "code",
   "execution_count": null,
   "metadata": {
    "execution": {
     "iopub.execute_input": "2022-08-04T23:32:10.762147Z",
     "iopub.status.busy": "2022-08-04T23:32:10.761751Z",
     "iopub.status.idle": "2022-08-04T23:32:10.769011Z",
     "shell.execute_reply": "2022-08-04T23:32:10.767773Z",
     "shell.execute_reply.started": "2022-08-04T23:32:10.762084Z"
    },
    "trusted": true
   },
   "outputs": [],
   "source": [
    "print(\"Train Size:\", train_size)\n",
    "print(\"Validation Size:\", val_size)\n",
    "print(\"Test Size:\", test_size)\n",
    "\n",
    "print(\"Sum of Train, Validation and Test sizes is equal to:\", train_size + val_size + test_size)"
   ]
  },
  {
   "cell_type": "code",
   "execution_count": null,
   "metadata": {
    "execution": {
     "iopub.execute_input": "2022-08-04T23:32:10.771841Z",
     "iopub.status.busy": "2022-08-04T23:32:10.771393Z",
     "iopub.status.idle": "2022-08-04T23:32:10.782227Z",
     "shell.execute_reply": "2022-08-04T23:32:10.781142Z",
     "shell.execute_reply.started": "2022-08-04T23:32:10.7718Z"
    },
    "trusted": true
   },
   "outputs": [],
   "source": [
    "train = data.take(train_size)\n",
    "val = data.skip(train_size).take(val_size)\n",
    "test = data.skip(train_size + val_size).take(test_size)"
   ]
  },
  {
   "cell_type": "markdown",
   "metadata": {},
   "source": [
    "# Data Augmentation"
   ]
  },
  {
   "cell_type": "markdown",
   "metadata": {},
   "source": [
    "Because our Train set has relatively small number of images, we can apply data augmentation which is reproducing the images by applying some changes such as random rotating, random flipping, random zoom and random contrast. This may possibly increase the accuracy score of the model. Since we will be applying the data augmentation in the beginning of the neural network architecture, we should pass the input shape.\n",
    "\n",
    "Note: Data augmentation will be inactive when testing the data. Input images will be augmented during calls to model.fit (not model.evaluate or model.predict)."
   ]
  },
  {
   "cell_type": "code",
   "execution_count": null,
   "metadata": {
    "_kg_hide-output": true,
    "execution": {
     "iopub.execute_input": "2022-08-04T23:32:10.786884Z",
     "iopub.status.busy": "2022-08-04T23:32:10.785878Z",
     "iopub.status.idle": "2022-08-04T23:32:11.20914Z",
     "shell.execute_reply": "2022-08-04T23:32:11.207078Z",
     "shell.execute_reply.started": "2022-08-04T23:32:10.786847Z"
    },
    "trusted": true
   },
   "outputs": [],
   "source": [
    "batch = data.as_numpy_iterator().next()"
   ]
  },
  {
   "cell_type": "code",
   "execution_count": null,
   "metadata": {
    "execution": {
     "iopub.execute_input": "2022-08-04T23:32:11.211365Z",
     "iopub.status.busy": "2022-08-04T23:32:11.210989Z",
     "iopub.status.idle": "2022-08-04T23:32:12.165151Z",
     "shell.execute_reply": "2022-08-04T23:32:12.164285Z",
     "shell.execute_reply.started": "2022-08-04T23:32:11.211328Z"
    },
    "trusted": true
   },
   "outputs": [],
   "source": [
    "data_augmentation = Sequential([\n",
    "    layers.RandomFlip(\"horizontal_and_vertical\", input_shape=(256,256,3)),\n",
    "    layers.RandomZoom(0.1),\n",
    "    layers.RandomContrast(0.1),\n",
    "    layers.RandomRotation(0.2)\n",
    "])\n",
    "\n",
    "image = batch[0]\n",
    "\n",
    "\n",
    "plt.figure(figsize=(10, 10))\n",
    "for i in range(9):\n",
    "    augmented_image = data_augmentation(image)\n",
    "    ax = plt.subplot(3, 3, i + 1)\n",
    "    plt.imshow(augmented_image[0])\n",
    "    plt.axis(\"off\")"
   ]
  },
  {
   "cell_type": "markdown",
   "metadata": {},
   "source": [
    "# Building a Deep Learning Model"
   ]
  },
  {
   "cell_type": "code",
   "execution_count": null,
   "metadata": {
    "execution": {
     "iopub.execute_input": "2022-08-04T23:32:12.167584Z",
     "iopub.status.busy": "2022-08-04T23:32:12.166691Z",
     "iopub.status.idle": "2022-08-04T23:32:12.394255Z",
     "shell.execute_reply": "2022-08-04T23:32:12.393288Z",
     "shell.execute_reply.started": "2022-08-04T23:32:12.167545Z"
    },
    "trusted": true
   },
   "outputs": [],
   "source": [
    "model = Sequential([\n",
    "    data_augmentation,\n",
    "    Conv2D(16, (3,3), 1, activation=\"relu\", padding=\"same\"),\n",
    "    Conv2D(16, (3,3), 1, activation=\"relu\", padding=\"same\"),\n",
    "    MaxPooling2D(),\n",
    "    Conv2D(32, (5,5), 1, activation=\"relu\", padding=\"same\"),\n",
    "    Conv2D(32, (5,5), 1, activation=\"relu\", padding=\"same\"),\n",
    "    MaxPooling2D(),\n",
    "    Conv2D(16, (3,3), 1, activation=\"relu\", padding=\"same\"),\n",
    "    Conv2D(16, (3,3), 1, activation=\"relu\", padding=\"same\"),\n",
    "    MaxPooling2D(),\n",
    "    \n",
    "    Flatten(),\n",
    "    Dense(128, activation=\"relu\"),\n",
    "    Dense(1, activation=\"sigmoid\")\n",
    "])"
   ]
  },
  {
   "cell_type": "code",
   "execution_count": null,
   "metadata": {
    "execution": {
     "iopub.execute_input": "2022-08-04T23:32:12.396101Z",
     "iopub.status.busy": "2022-08-04T23:32:12.395718Z",
     "iopub.status.idle": "2022-08-04T23:32:12.409048Z",
     "shell.execute_reply": "2022-08-04T23:32:12.407861Z",
     "shell.execute_reply.started": "2022-08-04T23:32:12.396062Z"
    },
    "trusted": true
   },
   "outputs": [],
   "source": [
    "model.compile(loss=keras.losses.BinaryCrossentropy(), metrics=[\"accuracy\"])"
   ]
  },
  {
   "cell_type": "code",
   "execution_count": null,
   "metadata": {
    "execution": {
     "iopub.execute_input": "2022-08-04T23:32:12.412128Z",
     "iopub.status.busy": "2022-08-04T23:32:12.411822Z",
     "iopub.status.idle": "2022-08-04T23:32:12.418873Z",
     "shell.execute_reply": "2022-08-04T23:32:12.417686Z",
     "shell.execute_reply.started": "2022-08-04T23:32:12.4121Z"
    },
    "trusted": true
   },
   "outputs": [],
   "source": [
    "model.summary()"
   ]
  },
  {
   "cell_type": "code",
   "execution_count": null,
   "metadata": {
    "_kg_hide-output": true,
    "execution": {
     "iopub.execute_input": "2022-08-04T23:32:12.421208Z",
     "iopub.status.busy": "2022-08-04T23:32:12.420828Z",
     "iopub.status.idle": "2022-08-04T23:32:33.956017Z",
     "shell.execute_reply": "2022-08-04T23:32:33.95502Z",
     "shell.execute_reply.started": "2022-08-04T23:32:12.42117Z"
    },
    "trusted": true
   },
   "outputs": [],
   "source": [
    "history = model.fit(train, epochs=15, validation_data=val)"
   ]
  },
  {
   "cell_type": "markdown",
   "metadata": {},
   "source": [
    "# Performance Plotting "
   ]
  },
  {
   "cell_type": "code",
   "execution_count": null,
   "metadata": {
    "execution": {
     "iopub.execute_input": "2022-08-04T23:32:33.958423Z",
     "iopub.status.busy": "2022-08-04T23:32:33.958052Z",
     "iopub.status.idle": "2022-08-04T23:32:34.290378Z",
     "shell.execute_reply": "2022-08-04T23:32:34.289429Z",
     "shell.execute_reply.started": "2022-08-04T23:32:33.958384Z"
    },
    "trusted": true
   },
   "outputs": [],
   "source": [
    "fig, ax = plt.subplots(2, 1, figsize=(10,8))\n",
    "\n",
    "ax[0].plot(history.history[\"loss\"], label=\"Train\")\n",
    "ax[0].plot(history.history[\"val_loss\"], label=\"Validation\")\n",
    "ax[0].title.set_text(\"Loss\")\n",
    "ax[0].legend()\n",
    "\n",
    "ax[1].plot(history.history[\"accuracy\"], label=\"Train\")\n",
    "ax[1].plot(history.history[\"val_accuracy\"], label=\"Validation\")\n",
    "ax[1].title.set_text(\"Accuracy\")\n",
    "ax[1].legend()\n",
    "\n",
    "plt.show()"
   ]
  },
  {
   "cell_type": "markdown",
   "metadata": {},
   "source": [
    "# Results"
   ]
  },
  {
   "cell_type": "code",
   "execution_count": null,
   "metadata": {
    "execution": {
     "iopub.execute_input": "2022-08-04T23:32:34.293044Z",
     "iopub.status.busy": "2022-08-04T23:32:34.291912Z",
     "iopub.status.idle": "2022-08-04T23:32:35.159684Z",
     "shell.execute_reply": "2022-08-04T23:32:35.158645Z",
     "shell.execute_reply.started": "2022-08-04T23:32:34.293002Z"
    },
    "trusted": true
   },
   "outputs": [],
   "source": [
    "bin_acc = BinaryAccuracy()\n",
    "recall = Recall()\n",
    "precision = Precision()\n",
    "\n",
    "for batch in test.as_numpy_iterator():\n",
    "    X, y = batch\n",
    "    yhat = model.predict(X)\n",
    "    bin_acc.update_state(y, yhat)\n",
    "    recall.update_state(y, yhat)\n",
    "    precision.update_state(y, yhat)\n",
    "\n",
    "print(\"Accuracy:\", bin_acc.result().numpy(), \"\\nRecall:\", recall.result().numpy(), \"\\nPrecision:\", precision.result().numpy())"
   ]
  },
  {
   "cell_type": "markdown",
   "metadata": {},
   "source": [
    "# Manual Testing"
   ]
  },
  {
   "cell_type": "markdown",
   "metadata": {},
   "source": [
    "We have already evaluated our model using various metrics and visualizations but it is always a good practice to test the model by hand to make sure everything is working well. In the code below, I randomly chose an image and plotted it with its true label on title so let's see if our model is going to classify this example correctly."
   ]
  },
  {
   "cell_type": "code",
   "execution_count": null,
   "metadata": {
    "_kg_hide-output": true,
    "execution": {
     "iopub.execute_input": "2022-08-04T23:32:35.16154Z",
     "iopub.status.busy": "2022-08-04T23:32:35.161181Z",
     "iopub.status.idle": "2022-08-04T23:32:35.950324Z",
     "shell.execute_reply": "2022-08-04T23:32:35.949327Z",
     "shell.execute_reply.started": "2022-08-04T23:32:35.161503Z"
    },
    "trusted": true
   },
   "outputs": [],
   "source": [
    "batch = test.as_numpy_iterator().next()"
   ]
  },
  {
   "cell_type": "code",
   "execution_count": null,
   "metadata": {
    "execution": {
     "iopub.execute_input": "2022-08-04T23:32:35.952818Z",
     "iopub.status.busy": "2022-08-04T23:32:35.951834Z",
     "iopub.status.idle": "2022-08-04T23:32:36.163836Z",
     "shell.execute_reply": "2022-08-04T23:32:36.162822Z",
     "shell.execute_reply.started": "2022-08-04T23:32:35.952772Z"
    },
    "trusted": true
   },
   "outputs": [],
   "source": [
    "img, label = batch[0][15], batch[1][15]\n",
    "plt.imshow(img)\n",
    "if label==1:\n",
    "    plt.title(\"Brain with Tumor\")\n",
    "else:\n",
    "    plt.title(\"Brain with No Tumor\")\n",
    "plt.show()"
   ]
  },
  {
   "cell_type": "code",
   "execution_count": null,
   "metadata": {
    "execution": {
     "iopub.execute_input": "2022-08-04T23:32:36.166166Z",
     "iopub.status.busy": "2022-08-04T23:32:36.165776Z",
     "iopub.status.idle": "2022-08-04T23:32:36.226211Z",
     "shell.execute_reply": "2022-08-04T23:32:36.225189Z",
     "shell.execute_reply.started": "2022-08-04T23:32:36.166129Z"
    },
    "trusted": true
   },
   "outputs": [],
   "source": [
    "y_hat = model.predict(np.expand_dims(img, 0))"
   ]
  },
  {
   "cell_type": "markdown",
   "metadata": {},
   "source": [
    "We are able to see the probability of this brain's having tumor below. I opted to determine the classification threshold as 0.5. Meaning that, if it is below 0.5 this will be classified as Brain Having No Tumor otherwise it is going to be classified as Brain Having Tumor."
   ]
  },
  {
   "cell_type": "code",
   "execution_count": null,
   "metadata": {
    "execution": {
     "iopub.execute_input": "2022-08-04T23:32:36.228391Z",
     "iopub.status.busy": "2022-08-04T23:32:36.228027Z",
     "iopub.status.idle": "2022-08-04T23:32:36.238501Z",
     "shell.execute_reply": "2022-08-04T23:32:36.237441Z",
     "shell.execute_reply.started": "2022-08-04T23:32:36.228353Z"
    },
    "trusted": true
   },
   "outputs": [],
   "source": [
    "y_hat"
   ]
  },
  {
   "cell_type": "code",
   "execution_count": null,
   "metadata": {
    "execution": {
     "iopub.execute_input": "2022-08-04T23:32:36.240668Z",
     "iopub.status.busy": "2022-08-04T23:32:36.240021Z",
     "iopub.status.idle": "2022-08-04T23:32:36.24745Z",
     "shell.execute_reply": "2022-08-04T23:32:36.24583Z",
     "shell.execute_reply.started": "2022-08-04T23:32:36.24063Z"
    },
    "trusted": true
   },
   "outputs": [],
   "source": [
    "if y_hat < 0.5:\n",
    "    print(\"No tumor detected\")\n",
    "else:\n",
    "    print(\"Tumor detected\")"
   ]
  }
 ],
 "metadata": {
  "kernelspec": {
   "display_name": "Python 3.8.13 ('tf')",
   "language": "python",
   "name": "python3"
  },
  "language_info": {
   "codemirror_mode": {
    "name": "ipython",
    "version": 3
   },
   "file_extension": ".py",
   "mimetype": "text/x-python",
   "name": "python",
   "nbconvert_exporter": "python",
   "pygments_lexer": "ipython3",
   "version": "3.8.13"
  },
  "orig_nbformat": 4,
  "vscode": {
   "interpreter": {
    "hash": "971410098d36db1dd72ae205b608ee0ea065501ba7204b96fd876d69e0c596d8"
   }
  }
 },
 "nbformat": 4,
 "nbformat_minor": 2
}
